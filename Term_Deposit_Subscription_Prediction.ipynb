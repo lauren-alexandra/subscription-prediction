{
 "cells": [
  {
   "cell_type": "markdown",
   "metadata": {},
   "source": [
    "# Term Deposit Subscription Prediction"
   ]
  },
  {
   "cell_type": "markdown",
   "metadata": {},
   "source": [
    "# Goal\n",
    "\n",
    "Using the data collected from existing customers, build a model that will help the marketing\n",
    "team identify potential customers who are relatively more likely to subscribe term deposit\n",
    "and thus increase their hit ratio. "
   ]
  },
  {
   "cell_type": "markdown",
   "metadata": {},
   "source": [
    "## Attribute information:\n",
    "  - Input variables \n",
    "    - Bank client data\n",
    "        1. age: continuous feature\n",
    "        2. job: type of job (management, technician, entrepreneur, blue-collar, etc.)\n",
    "        3. marital: marital status (married, single, divorced)\n",
    "        4. education: education level (primary, secondary, tertiary)\n",
    "        5. default: has credit in default?\n",
    "        6. housing: has housing loan?\n",
    "        7. loan: has personal loan?\n",
    "        8. balance in account\n",
    "    - Related to previous contact\n",
    "        9. contact: contact communication type\n",
    "        10. month: last contact month of year\n",
    "        11. day: last contact day of the month\n",
    "        12. duration: last contact duration, in seconds*\n",
    "    - Other attributes\n",
    "        13. campaign: number of contacts performed during this campaign and for this\n",
    "    - Client\n",
    "        14. pdays: number of days that passed by after the client was last contacted from a\n",
    "    - Previous campaign (-1 tells us the person has not been contacted or contact period is beyond 900 days)\n",
    "        15. previous: number of times the client has been contacted before for the last\n",
    "    - Campaign to subscribe term deposit\n",
    "        16. poutcome: outcome of the previous marketing campaign\n",
    "  - Output variable (desired target)\n",
    "      17. Target: Tell us has the client subscribed a term deposit. (Yes, No)"
   ]
  },
  {
   "cell_type": "markdown",
   "metadata": {},
   "source": [
    "# Import all necessary modules"
   ]
  },
  {
   "cell_type": "code",
   "execution_count": 15,
   "metadata": {},
   "outputs": [
    {
     "data": {
      "text/html": [
       "<style>.container { width:95% !important; }</style>"
      ],
      "text/plain": [
       "<IPython.core.display.HTML object>"
      ]
     },
     "metadata": {},
     "output_type": "display_data"
    }
   ],
   "source": [
    "import warnings\n",
    "warnings.filterwarnings('ignore')\n",
    "import numpy as np\n",
    "import pandas as pd\n",
    "\n",
    "import matplotlib.pyplot as plt \n",
    "import seaborn as sns\n",
    "import pandas_profiling\n",
    "\n",
    "from sklearn.model_selection import train_test_split\n",
    "from sklearn.tree import DecisionTreeClassifier\n",
    "from sklearn.metrics import accuracy_score, f1_score, recall_score, precision_score, confusion_matrix\n",
    "\n",
    "from yellowbrick.classifier import ClassificationReport, ROCAUC\n",
    "\n",
    "plt.style.use('ggplot')\n",
    "pd.options.display.float_format = '{:,.2f}'.format\n",
    "from IPython.core.display import display, HTML\n",
    "display(HTML(\"<style>.container { width:95% !important; }</style>\"))"
   ]
  },
  {
   "cell_type": "markdown",
   "metadata": {},
   "source": [
    "# Load and review data"
   ]
  },
  {
   "cell_type": "code",
   "execution_count": 16,
   "metadata": {},
   "outputs": [],
   "source": [
    "df = pd.read_csv('bank-full.csv')"
   ]
  },
  {
   "cell_type": "code",
   "execution_count": 17,
   "metadata": {},
   "outputs": [
    {
     "data": {
      "text/html": [
       "<div>\n",
       "<style scoped>\n",
       "    .dataframe tbody tr th:only-of-type {\n",
       "        vertical-align: middle;\n",
       "    }\n",
       "\n",
       "    .dataframe tbody tr th {\n",
       "        vertical-align: top;\n",
       "    }\n",
       "\n",
       "    .dataframe thead th {\n",
       "        text-align: right;\n",
       "    }\n",
       "</style>\n",
       "<table border=\"1\" class=\"dataframe\">\n",
       "  <thead>\n",
       "    <tr style=\"text-align: right;\">\n",
       "      <th></th>\n",
       "      <th>age</th>\n",
       "      <th>job</th>\n",
       "      <th>marital</th>\n",
       "      <th>education</th>\n",
       "      <th>default</th>\n",
       "      <th>balance</th>\n",
       "      <th>housing</th>\n",
       "      <th>loan</th>\n",
       "      <th>contact</th>\n",
       "      <th>day</th>\n",
       "      <th>month</th>\n",
       "      <th>duration</th>\n",
       "      <th>campaign</th>\n",
       "      <th>pdays</th>\n",
       "      <th>previous</th>\n",
       "      <th>poutcome</th>\n",
       "      <th>Target</th>\n",
       "    </tr>\n",
       "  </thead>\n",
       "  <tbody>\n",
       "    <tr>\n",
       "      <th>0</th>\n",
       "      <td>58</td>\n",
       "      <td>management</td>\n",
       "      <td>married</td>\n",
       "      <td>tertiary</td>\n",
       "      <td>no</td>\n",
       "      <td>2143</td>\n",
       "      <td>yes</td>\n",
       "      <td>no</td>\n",
       "      <td>unknown</td>\n",
       "      <td>5</td>\n",
       "      <td>may</td>\n",
       "      <td>261</td>\n",
       "      <td>1</td>\n",
       "      <td>-1</td>\n",
       "      <td>0</td>\n",
       "      <td>unknown</td>\n",
       "      <td>no</td>\n",
       "    </tr>\n",
       "    <tr>\n",
       "      <th>1</th>\n",
       "      <td>44</td>\n",
       "      <td>technician</td>\n",
       "      <td>single</td>\n",
       "      <td>secondary</td>\n",
       "      <td>no</td>\n",
       "      <td>29</td>\n",
       "      <td>yes</td>\n",
       "      <td>no</td>\n",
       "      <td>unknown</td>\n",
       "      <td>5</td>\n",
       "      <td>may</td>\n",
       "      <td>151</td>\n",
       "      <td>1</td>\n",
       "      <td>-1</td>\n",
       "      <td>0</td>\n",
       "      <td>unknown</td>\n",
       "      <td>no</td>\n",
       "    </tr>\n",
       "    <tr>\n",
       "      <th>2</th>\n",
       "      <td>33</td>\n",
       "      <td>entrepreneur</td>\n",
       "      <td>married</td>\n",
       "      <td>secondary</td>\n",
       "      <td>no</td>\n",
       "      <td>2</td>\n",
       "      <td>yes</td>\n",
       "      <td>yes</td>\n",
       "      <td>unknown</td>\n",
       "      <td>5</td>\n",
       "      <td>may</td>\n",
       "      <td>76</td>\n",
       "      <td>1</td>\n",
       "      <td>-1</td>\n",
       "      <td>0</td>\n",
       "      <td>unknown</td>\n",
       "      <td>no</td>\n",
       "    </tr>\n",
       "    <tr>\n",
       "      <th>3</th>\n",
       "      <td>47</td>\n",
       "      <td>blue-collar</td>\n",
       "      <td>married</td>\n",
       "      <td>unknown</td>\n",
       "      <td>no</td>\n",
       "      <td>1506</td>\n",
       "      <td>yes</td>\n",
       "      <td>no</td>\n",
       "      <td>unknown</td>\n",
       "      <td>5</td>\n",
       "      <td>may</td>\n",
       "      <td>92</td>\n",
       "      <td>1</td>\n",
       "      <td>-1</td>\n",
       "      <td>0</td>\n",
       "      <td>unknown</td>\n",
       "      <td>no</td>\n",
       "    </tr>\n",
       "    <tr>\n",
       "      <th>4</th>\n",
       "      <td>33</td>\n",
       "      <td>unknown</td>\n",
       "      <td>single</td>\n",
       "      <td>unknown</td>\n",
       "      <td>no</td>\n",
       "      <td>1</td>\n",
       "      <td>no</td>\n",
       "      <td>no</td>\n",
       "      <td>unknown</td>\n",
       "      <td>5</td>\n",
       "      <td>may</td>\n",
       "      <td>198</td>\n",
       "      <td>1</td>\n",
       "      <td>-1</td>\n",
       "      <td>0</td>\n",
       "      <td>unknown</td>\n",
       "      <td>no</td>\n",
       "    </tr>\n",
       "  </tbody>\n",
       "</table>\n",
       "</div>"
      ],
      "text/plain": [
       "   age           job  marital  education default  balance housing loan  \\\n",
       "0   58    management  married   tertiary      no     2143     yes   no   \n",
       "1   44    technician   single  secondary      no       29     yes   no   \n",
       "2   33  entrepreneur  married  secondary      no        2     yes  yes   \n",
       "3   47   blue-collar  married    unknown      no     1506     yes   no   \n",
       "4   33       unknown   single    unknown      no        1      no   no   \n",
       "\n",
       "   contact  day month  duration  campaign  pdays  previous poutcome Target  \n",
       "0  unknown    5   may       261         1     -1         0  unknown     no  \n",
       "1  unknown    5   may       151         1     -1         0  unknown     no  \n",
       "2  unknown    5   may        76         1     -1         0  unknown     no  \n",
       "3  unknown    5   may        92         1     -1         0  unknown     no  \n",
       "4  unknown    5   may       198         1     -1         0  unknown     no  "
      ]
     },
     "execution_count": 17,
     "metadata": {},
     "output_type": "execute_result"
    }
   ],
   "source": [
    "df.head()"
   ]
  },
  {
   "cell_type": "markdown",
   "metadata": {},
   "source": [
    "# EDA"
   ]
  },
  {
   "cell_type": "markdown",
   "metadata": {},
   "source": [
    "## Univariate analysis"
   ]
  },
  {
   "cell_type": "code",
   "execution_count": 10,
   "metadata": {},
   "outputs": [
    {
     "data": {
      "text/plain": [
       "(45211, 17)"
      ]
     },
     "execution_count": 10,
     "metadata": {},
     "output_type": "execute_result"
    }
   ],
   "source": [
    "df.shape"
   ]
  },
  {
   "cell_type": "code",
   "execution_count": 13,
   "metadata": {},
   "outputs": [
    {
     "data": {
      "text/plain": [
       "False"
      ]
     },
     "execution_count": 13,
     "metadata": {},
     "output_type": "execute_result"
    }
   ],
   "source": [
    "df.isnull().values.any()"
   ]
  },
  {
   "cell_type": "code",
   "execution_count": 5,
   "metadata": {},
   "outputs": [
    {
     "name": "stdout",
     "output_type": "stream",
     "text": [
      "<class 'pandas.core.frame.DataFrame'>\n",
      "RangeIndex: 45211 entries, 0 to 45210\n",
      "Data columns (total 17 columns):\n",
      " #   Column     Non-Null Count  Dtype \n",
      "---  ------     --------------  ----- \n",
      " 0   age        45211 non-null  int64 \n",
      " 1   job        45211 non-null  object\n",
      " 2   marital    45211 non-null  object\n",
      " 3   education  45211 non-null  object\n",
      " 4   default    45211 non-null  object\n",
      " 5   balance    45211 non-null  int64 \n",
      " 6   housing    45211 non-null  object\n",
      " 7   loan       45211 non-null  object\n",
      " 8   contact    45211 non-null  object\n",
      " 9   day        45211 non-null  int64 \n",
      " 10  month      45211 non-null  object\n",
      " 11  duration   45211 non-null  int64 \n",
      " 12  campaign   45211 non-null  int64 \n",
      " 13  pdays      45211 non-null  int64 \n",
      " 14  previous   45211 non-null  int64 \n",
      " 15  poutcome   45211 non-null  object\n",
      " 16  Target     45211 non-null  object\n",
      "dtypes: int64(7), object(10)\n",
      "memory usage: 5.9+ MB\n"
     ]
    }
   ],
   "source": [
    "df.info()"
   ]
  },
  {
   "cell_type": "code",
   "execution_count": 12,
   "metadata": {},
   "outputs": [
    {
     "data": {
      "text/html": [
       "<div>\n",
       "<style scoped>\n",
       "    .dataframe tbody tr th:only-of-type {\n",
       "        vertical-align: middle;\n",
       "    }\n",
       "\n",
       "    .dataframe tbody tr th {\n",
       "        vertical-align: top;\n",
       "    }\n",
       "\n",
       "    .dataframe thead th {\n",
       "        text-align: right;\n",
       "    }\n",
       "</style>\n",
       "<table border=\"1\" class=\"dataframe\">\n",
       "  <thead>\n",
       "    <tr style=\"text-align: right;\">\n",
       "      <th></th>\n",
       "      <th>age</th>\n",
       "      <th>balance</th>\n",
       "      <th>day</th>\n",
       "      <th>duration</th>\n",
       "      <th>campaign</th>\n",
       "      <th>pdays</th>\n",
       "      <th>previous</th>\n",
       "    </tr>\n",
       "  </thead>\n",
       "  <tbody>\n",
       "    <tr>\n",
       "      <th>count</th>\n",
       "      <td>45,211.00</td>\n",
       "      <td>45,211.00</td>\n",
       "      <td>45,211.00</td>\n",
       "      <td>45,211.00</td>\n",
       "      <td>45,211.00</td>\n",
       "      <td>45,211.00</td>\n",
       "      <td>45,211.00</td>\n",
       "    </tr>\n",
       "    <tr>\n",
       "      <th>mean</th>\n",
       "      <td>40.94</td>\n",
       "      <td>1,362.27</td>\n",
       "      <td>15.81</td>\n",
       "      <td>258.16</td>\n",
       "      <td>2.76</td>\n",
       "      <td>40.20</td>\n",
       "      <td>0.58</td>\n",
       "    </tr>\n",
       "    <tr>\n",
       "      <th>std</th>\n",
       "      <td>10.62</td>\n",
       "      <td>3,044.77</td>\n",
       "      <td>8.32</td>\n",
       "      <td>257.53</td>\n",
       "      <td>3.10</td>\n",
       "      <td>100.13</td>\n",
       "      <td>2.30</td>\n",
       "    </tr>\n",
       "    <tr>\n",
       "      <th>min</th>\n",
       "      <td>18.00</td>\n",
       "      <td>-8,019.00</td>\n",
       "      <td>1.00</td>\n",
       "      <td>0.00</td>\n",
       "      <td>1.00</td>\n",
       "      <td>-1.00</td>\n",
       "      <td>0.00</td>\n",
       "    </tr>\n",
       "    <tr>\n",
       "      <th>25%</th>\n",
       "      <td>33.00</td>\n",
       "      <td>72.00</td>\n",
       "      <td>8.00</td>\n",
       "      <td>103.00</td>\n",
       "      <td>1.00</td>\n",
       "      <td>-1.00</td>\n",
       "      <td>0.00</td>\n",
       "    </tr>\n",
       "    <tr>\n",
       "      <th>50%</th>\n",
       "      <td>39.00</td>\n",
       "      <td>448.00</td>\n",
       "      <td>16.00</td>\n",
       "      <td>180.00</td>\n",
       "      <td>2.00</td>\n",
       "      <td>-1.00</td>\n",
       "      <td>0.00</td>\n",
       "    </tr>\n",
       "    <tr>\n",
       "      <th>75%</th>\n",
       "      <td>48.00</td>\n",
       "      <td>1,428.00</td>\n",
       "      <td>21.00</td>\n",
       "      <td>319.00</td>\n",
       "      <td>3.00</td>\n",
       "      <td>-1.00</td>\n",
       "      <td>0.00</td>\n",
       "    </tr>\n",
       "    <tr>\n",
       "      <th>max</th>\n",
       "      <td>95.00</td>\n",
       "      <td>102,127.00</td>\n",
       "      <td>31.00</td>\n",
       "      <td>4,918.00</td>\n",
       "      <td>63.00</td>\n",
       "      <td>871.00</td>\n",
       "      <td>275.00</td>\n",
       "    </tr>\n",
       "  </tbody>\n",
       "</table>\n",
       "</div>"
      ],
      "text/plain": [
       "            age    balance       day  duration  campaign     pdays  previous\n",
       "count 45,211.00  45,211.00 45,211.00 45,211.00 45,211.00 45,211.00 45,211.00\n",
       "mean      40.94   1,362.27     15.81    258.16      2.76     40.20      0.58\n",
       "std       10.62   3,044.77      8.32    257.53      3.10    100.13      2.30\n",
       "min       18.00  -8,019.00      1.00      0.00      1.00     -1.00      0.00\n",
       "25%       33.00      72.00      8.00    103.00      1.00     -1.00      0.00\n",
       "50%       39.00     448.00     16.00    180.00      2.00     -1.00      0.00\n",
       "75%       48.00   1,428.00     21.00    319.00      3.00     -1.00      0.00\n",
       "max       95.00 102,127.00     31.00  4,918.00     63.00    871.00    275.00"
      ]
     },
     "execution_count": 12,
     "metadata": {},
     "output_type": "execute_result"
    }
   ],
   "source": [
    "df.describe()"
   ]
  },
  {
   "cell_type": "code",
   "execution_count": 6,
   "metadata": {},
   "outputs": [
    {
     "data": {
      "text/plain": [
       "age            77\n",
       "job            12\n",
       "marital         3\n",
       "education       4\n",
       "default         2\n",
       "balance      7168\n",
       "housing         2\n",
       "loan            2\n",
       "contact         3\n",
       "day            31\n",
       "month          12\n",
       "duration     1573\n",
       "campaign       48\n",
       "pdays         559\n",
       "previous       41\n",
       "poutcome        4\n",
       "Target          2\n",
       "dtype: int64"
      ]
     },
     "execution_count": 6,
     "metadata": {},
     "output_type": "execute_result"
    }
   ],
   "source": [
    "df.nunique() # Number of unique values in a column"
   ]
  },
  {
   "cell_type": "markdown",
   "metadata": {},
   "source": [
    "**Insights:**\n",
    "- `default, housing, and loan are categorical with binary values indicating the existence of each category (yes/no)`\n",
    "- `marital and education also have a fixed number of categories`"
   ]
  },
  {
   "cell_type": "code",
   "execution_count": 13,
   "metadata": {},
   "outputs": [
    {
     "data": {
      "image/png": "[encoded data removed]",
      "text/plain": [
       "<Figure size 432x288 with 1 Axes>"
      ]
     },
     "metadata": {},
     "output_type": "display_data"
    }
   ],
   "source": [
    "# distplot for age\n",
    "sns.distplot(df['age'])\n",
    "plt.show()"
   ]
  },
  {
   "cell_type": "markdown",
   "metadata": {},
   "source": [
    "**Insights:**\n",
    "- `the data is positively skewed, we can expect the mean age to be higher than the median`\n",
    "- `the most frequent customer age lies between 20-40 years`"
   ]
  },
  {
   "cell_type": "code",
   "execution_count": 11,
   "metadata": {},
   "outputs": [
    {
     "name": "stdout",
     "output_type": "stream",
     "text": [
      "blue-collar     0.22\n",
      "management      0.21\n",
      "technician      0.17\n",
      "admin.          0.11\n",
      "services        0.09\n",
      "retired         0.05\n",
      "self-employed   0.03\n",
      "entrepreneur    0.03\n",
      "unemployed      0.03\n",
      "housemaid       0.03\n",
      "student         0.02\n",
      "unknown         0.01\n",
      "Name: job, dtype: float64\n",
      "\n",
      "married    0.60\n",
      "single     0.28\n",
      "divorced   0.12\n",
      "Name: marital, dtype: float64\n",
      "\n",
      "secondary   0.51\n",
      "tertiary    0.29\n",
      "primary     0.15\n",
      "unknown     0.04\n",
      "Name: education, dtype: float64\n",
      "\n",
      "no    0.98\n",
      "yes   0.02\n",
      "Name: default, dtype: float64\n",
      "\n",
      "yes   0.56\n",
      "no    0.44\n",
      "Name: housing, dtype: float64\n",
      "\n",
      "no    0.84\n",
      "yes   0.16\n",
      "Name: loan, dtype: float64\n",
      "\n",
      "cellular    0.65\n",
      "unknown     0.29\n",
      "telephone   0.06\n",
      "Name: contact, dtype: float64\n",
      "\n",
      "may   0.30\n",
      "jul   0.15\n",
      "aug   0.14\n",
      "jun   0.12\n",
      "nov   0.09\n",
      "apr   0.06\n",
      "feb   0.06\n",
      "jan   0.03\n",
      "oct   0.02\n",
      "sep   0.01\n",
      "mar   0.01\n",
      "dec   0.00\n",
      "Name: month, dtype: float64\n",
      "\n",
      "unknown   0.82\n",
      "failure   0.11\n",
      "other     0.04\n",
      "success   0.03\n",
      "Name: poutcome, dtype: float64\n",
      "\n",
      "no    0.88\n",
      "yes   0.12\n",
      "Name: Target, dtype: float64\n",
      "\n"
     ]
    }
   ],
   "source": [
    "for i in list(df.columns[df.dtypes=='object']):   \n",
    "    print(df[i].value_counts(normalize=True))\n",
    "    print()"
   ]
  },
  {
   "cell_type": "markdown",
   "metadata": {},
   "source": [
    "**Insights:**\n",
    "- `more customers fall into the blue-collar worker, married, and secondary education categories than the other categories`\n",
    "- `56% of customers have a housing loan`\n",
    "- `84% of customers do not have a personal loan`"
   ]
  },
  {
   "cell_type": "code",
   "execution_count": 20,
   "metadata": {},
   "outputs": [
    {
     "data": {
      "text/plain": [
       "marital   education  Target\n",
       "divorced  primary    no          648\n",
       "                     yes         104\n",
       "          secondary  no         2524\n",
       "                     yes         291\n",
       "          tertiary   no         1268\n",
       "                     yes         203\n",
       "          unknown    no          145\n",
       "                     yes          24\n",
       "married   primary    no         4850\n",
       "                     yes         396\n",
       "          secondary  no        12466\n",
       "                     yes        1304\n",
       "          tertiary   no         6125\n",
       "                     yes         913\n",
       "          unknown    no         1018\n",
       "                     yes         142\n",
       "single    primary    no          762\n",
       "                     yes          91\n",
       "          secondary  no         5762\n",
       "                     yes         855\n",
       "          tertiary   no         3912\n",
       "                     yes         880\n",
       "          unknown    no          442\n",
       "                     yes          86\n",
       "Name: Target, dtype: int64"
      ]
     },
     "execution_count": 20,
     "metadata": {},
     "output_type": "execute_result"
    }
   ],
   "source": [
    "#Drawing relationship between marital, education, and Target\n",
    "\n",
    "df.groupby(['marital','education'])['Target'].value_counts()"
   ]
  },
  {
   "cell_type": "markdown",
   "metadata": {},
   "source": [
    "**Insights:**\n",
    "- `When the client has subscribed a term deposit, regardless of education, they are most likely they are married.`\n",
    "- `When the client has not subscribed a term deposit, regardless of marital status, they most likely have a secondary education.`"
   ]
  },
  {
   "cell_type": "code",
   "execution_count": 4,
   "metadata": {},
   "outputs": [
    {
     "data": {
      "text/plain": [
       "'\\nEDA\\n\\nMultivariate analysis (8 marks)\\na. Bi-variate analysis between the predictor variables and target column. Comment\\non your findings in terms of their relationship and degree of relation if any.\\nVisualize the analysis using boxplots and pair plots, histograms or density curves.\\nSelect the most appropriate attributes.\\nb. Please provide comments in jupyter notebook regarding the steps you take and\\ninsights drawn from the plots\\n'"
      ]
     },
     "execution_count": 4,
     "metadata": {},
     "output_type": "execute_result"
    }
   ],
   "source": [
    "'''\n",
    "EDA\n",
    "\n",
    "Multivariate analysis (8 marks)\n",
    "a. Bi-variate analysis between the predictor variables and target column. Comment\n",
    "on your findings in terms of their relationship and degree of relation if any.\n",
    "Visualize the analysis using boxplots and pair plots, histograms or density curves.\n",
    "Select the most appropriate attributes.\n",
    "b. Please provide comments in jupyter notebook regarding the steps you take and\n",
    "insights drawn from the plots\n",
    "'''"
   ]
  },
  {
   "cell_type": "markdown",
   "metadata": {},
   "source": [
    "## Multivariate analysis"
   ]
  },
  {
   "cell_type": "code",
   "execution_count": null,
   "metadata": {},
   "outputs": [],
   "source": []
  },
  {
   "cell_type": "code",
   "execution_count": null,
   "metadata": {},
   "outputs": [],
   "source": []
  },
  {
   "cell_type": "markdown",
   "metadata": {},
   "source": [
    "# Prepare the data"
   ]
  },
  {
   "cell_type": "code",
   "execution_count": 5,
   "metadata": {},
   "outputs": [
    {
     "data": {
      "text/plain": [
       "'\\nPrepare the data\\n\\n1. Ensure the attribute types are correct. If not, take appropriate actions.\\n2. Get the data model ready.\\n3. Transform the data i.e. scale / normalize if required\\n4. Create the training set and test set in ratio of 70:30\\n'"
      ]
     },
     "execution_count": 5,
     "metadata": {},
     "output_type": "execute_result"
    }
   ],
   "source": [
    "'''\n",
    "Prepare the data\n",
    "\n",
    "1. Ensure the attribute types are correct. If not, take appropriate actions.\n",
    "2. Get the data model ready.\n",
    "3. Transform the data i.e. scale / normalize if required\n",
    "4. Create the training set and test set in ratio of 70:30\n",
    "'''"
   ]
  },
  {
   "cell_type": "markdown",
   "metadata": {},
   "source": [
    "# Create the model"
   ]
  },
  {
   "cell_type": "code",
   "execution_count": 6,
   "metadata": {},
   "outputs": [
    {
     "data": {
      "text/plain": [
       "'\\nCreate the ensemble model\\n\\n1. First create models using Logistic Regression and Decision Tree algorithm. Note the\\nmodel performance by using different matrices. Use confusion matrix to evaluate\\nclass level metrics i.e. Precision/Recall. Also reflect the accuracy and F1 score of the\\nmodel. (10 marks)\\n2. Build the ensemble models (Bagging and Boosting) and note the model performance\\nby using different matrices. Use same metrics as in above model. (at least 3\\nalgorithms) (15 marks)\\n3. Make a DataFrame to compare models and their metrics. Give conclusion regarding\\nthe best algorithm and your reason behind it. (5 marks)\\n'"
      ]
     },
     "execution_count": 6,
     "metadata": {},
     "output_type": "execute_result"
    }
   ],
   "source": [
    "'''\n",
    "Create the ensemble model\n",
    "\n",
    "1. First create models using Logistic Regression and Decision Tree algorithm. Note the\n",
    "model performance by using different matrices. Use confusion matrix to evaluate\n",
    "class level metrics i.e. Precision/Recall. Also reflect the accuracy and F1 score of the\n",
    "model. (10 marks)\n",
    "2. Build the ensemble models (Bagging and Boosting) and note the model performance\n",
    "by using different matrices. Use same metrics as in above model. (at least 3\n",
    "algorithms) (15 marks)\n",
    "3. Make a DataFrame to compare models and their metrics. Give conclusion regarding\n",
    "the best algorithm and your reason behind it. (5 marks)\n",
    "'''"
   ]
  },
  {
   "cell_type": "code",
   "execution_count": null,
   "metadata": {},
   "outputs": [],
   "source": []
  }
 ],
 "metadata": {
  "kernelspec": {
   "display_name": "Python 3",
   "language": "python",
   "name": "python3"
  },
  "language_info": {
   "codemirror_mode": {
    "name": "ipython",
    "version": 3
   },
   "file_extension": ".py",
   "mimetype": "text/x-python",
   "name": "python",
   "nbconvert_exporter": "python",
   "pygments_lexer": "ipython3",
   "version": "3.7.3"
  }
 },
 "nbformat": 4,
 "nbformat_minor": 2
}
