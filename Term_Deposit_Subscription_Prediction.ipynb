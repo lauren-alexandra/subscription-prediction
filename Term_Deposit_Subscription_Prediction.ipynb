{
 "cells": [
  {
   "cell_type": "markdown",
   "metadata": {},
   "source": [
    "# Term Deposit Subscription Prediction"
   ]
  },
  {
   "cell_type": "markdown",
   "metadata": {},
   "source": [
    "# Goal\n",
    "\n",
    "Using the data collected from existing customers, build a model that will help the marketing\n",
    "team identify potential customers who are relatively more likely to subscribe term deposit\n",
    "and thus increase their hit ratio. "
   ]
  },
  {
   "cell_type": "markdown",
   "metadata": {},
   "source": [
    "## Attribute information:\n",
    "  - Input variables \n",
    "    - Bank client data\n",
    "        1. age: continuous feature\n",
    "        2. job: type of job (management, technician, entrepreneur, blue-collar, etc.)\n",
    "        3. marital: marital status (married, single, divorced)\n",
    "        4. education: education level (primary, secondary, tertiary)\n",
    "        5. default: has credit in default?\n",
    "        6. housing: has housing loan?\n",
    "        7. loan: has personal loan?\n",
    "        8. balance in account\n",
    "    - Related to previous contact\n",
    "        9. contact: contact communication type\n",
    "        10. month: last contact month of year\n",
    "        11. day: last contact day of the month\n",
    "        12. duration: last contact duration, in seconds*\n",
    "    - Other attributes\n",
    "        13. campaign: number of contacts performed during this campaign and for this\n",
    "    - Client\n",
    "        14. pdays: number of days that passed by after the client was last contacted from a\n",
    "    - Previous campaign (-1 tells us the person has not been contacted or contact period is beyond 900 days)\n",
    "        15. previous: number of times the client has been contacted before for the last\n",
    "    - Campaign to subscribe term deposit\n",
    "        16. poutcome: outcome of the previous marketing campaign\n",
    "  - Output variable (desired target)\n",
    "      17. Target: Tell us has the client subscribed a term deposit. (Yes, No)"
   ]
  },
  {
   "cell_type": "code",
   "execution_count": null,
   "metadata": {},
   "outputs": [],
   "source": []
  }
 ],
 "metadata": {
  "kernelspec": {
   "display_name": "Python 3",
   "language": "python",
   "name": "python3"
  },
  "language_info": {
   "codemirror_mode": {
    "name": "ipython",
    "version": 3
   },
   "file_extension": ".py",
   "mimetype": "text/x-python",
   "name": "python",
   "nbconvert_exporter": "python",
   "pygments_lexer": "ipython3",
   "version": "3.7.3"
  }
 },
 "nbformat": 4,
 "nbformat_minor": 2
}
